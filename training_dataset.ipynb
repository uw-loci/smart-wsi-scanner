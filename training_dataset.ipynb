{
 "cells": [
  {
   "cell_type": "code",
   "execution_count": 2,
   "id": "9e04883f-f265-421b-8916-9107adab5348",
   "metadata": {},
   "outputs": [],
   "source": [
    "import os, glob\n",
    "from pycromanager import Dataset\n",
    "from skimage import io, img_as_ubyte, exposure, img_as_uint\n",
    "import numpy as np"
   ]
  },
  {
   "cell_type": "code",
   "execution_count": 3,
   "id": "04b1403c-e6c6-4bb8-9223-d6f78e896372",
   "metadata": {},
   "outputs": [],
   "source": [
    "def thres_saturation(img, t=15, img_channel=3):\n",
    "    img = img_as_ubyte(img)\n",
    "    if img_channel==3:\n",
    "        # typical t = 15\n",
    "        img = rgb2hsv(img)\n",
    "        h, w, c = img.shape\n",
    "        sat_img = img[:, :, 1]\n",
    "        sat_img = img_as_ubyte(sat_img)\n",
    "        ave_sat = np.sum(sat_img) / (h * w)\n",
    "    if img_channel==1:\n",
    "        # typical t = 20\n",
    "        h, w = img.shape\n",
    "        ave_sat = np.sum(img) / (h * w)\n",
    "    return ave_sat >= t"
   ]
  },
  {
   "cell_type": "code",
   "execution_count": 16,
   "id": "c47c164e-6d0d-4448-b57c-f80a83d26a7d",
   "metadata": {
    "tags": []
   },
   "outputs": [],
   "source": [
    "data_path = os.path.join('data', 'acquisition', 'BurnTest3v2-lsm--null_1')\n",
    "slices_path =  os.path.join('denoise', 'shg_training_256_BurnTest3v2-lsm--sr0.5M-pc0.45-pmt0.45-bf8-mid')\n",
    "os.makedirs(slices_path, exist_ok=True)"
   ]
  },
  {
   "cell_type": "code",
   "execution_count": 19,
   "id": "a3e96677-1c55-46b1-b5b8-73e919eb3309",
   "metadata": {
    "scrolled": true,
    "tags": []
   },
   "outputs": [
    {
     "name": "stdout",
     "output_type": "stream",
     "text": [
      "data\\acquisition\\BurnTest3v2-lsm--null_1\n",
      "Dataset opened                 \n"
     ]
    }
   ],
   "source": [
    "print(data_path)\n",
    "dataset = Dataset(data_path)\n",
    "for pos in range(0, 2000):\n",
    "    z_idx = 0\n",
    "    while(dataset.has_image(position=pos, z=z_idx)):\n",
    "        img = dataset.read_image(position=pos, z=z_idx)\n",
    "        z_idx = z_idx+1\n",
    "        if thres_saturation(img, t=61, img_channel=1):\n",
    "            save_name = os.path.join(slices_path, str(pos)+'_'+str(z_idx)+'.tif')\n",
    "            io.imsave(save_name, img_as_uint(img))"
   ]
  },
  {
   "cell_type": "code",
   "execution_count": null,
   "id": "11eae7b4-d1cf-4429-8759-d1f80387978d",
   "metadata": {},
   "outputs": [],
   "source": []
  }
 ],
 "metadata": {
  "kernelspec": {
   "display_name": "Python 3",
   "language": "python",
   "name": "python3"
  },
  "language_info": {
   "codemirror_mode": {
    "name": "ipython",
    "version": 3
   },
   "file_extension": ".py",
   "mimetype": "text/x-python",
   "name": "python",
   "nbconvert_exporter": "python",
   "pygments_lexer": "ipython3",
   "version": "3.6.13"
  }
 },
 "nbformat": 4,
 "nbformat_minor": 5
}
